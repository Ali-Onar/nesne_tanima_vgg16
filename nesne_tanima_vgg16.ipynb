{
  "nbformat": 4,
  "nbformat_minor": 0,
  "metadata": {
    "colab": {
      "name": "nesne_tanima_vgg16.ipynb",
      "provenance": [],
      "collapsed_sections": [],
      "authorship_tag": "ABX9TyMpiwzAtaNEjgFHzKEbfoXs",
      "include_colab_link": true
    },
    "kernelspec": {
      "name": "python3",
      "display_name": "Python 3"
    }
  },
  "cells": [
    {
      "cell_type": "markdown",
      "metadata": {
        "id": "view-in-github",
        "colab_type": "text"
      },
      "source": [
        "<a href=\"https://colab.research.google.com/github/Ali-Onar/nesne_tanima_vgg16/blob/master/nesne_tanima_vgg16.ipynb\" target=\"_parent\"><img src=\"https://colab.research.google.com/assets/colab-badge.svg\" alt=\"Open In Colab\"/></a>"
      ]
    },
    {
      "cell_type": "code",
      "metadata": {
        "id": "IsQZ4zWZUBos",
        "colab_type": "code",
        "colab": {
          "base_uri": "https://localhost:8080/",
          "height": 34
        },
        "outputId": "e3837519-94f4-4620-cc92-020933187540"
      },
      "source": [
        "from google.colab import drive\n",
        "drive.mount('/content/gdrive')"
      ],
      "execution_count": 11,
      "outputs": [
        {
          "output_type": "stream",
          "text": [
            "Drive already mounted at /content/gdrive; to attempt to forcibly remount, call drive.mount(\"/content/gdrive\", force_remount=True).\n"
          ],
          "name": "stdout"
        }
      ]
    },
    {
      "cell_type": "code",
      "metadata": {
        "id": "9txHfWGPVb0_",
        "colab_type": "code",
        "colab": {}
      },
      "source": [
        "#import libraries\n",
        "from keras.applications.vgg16 import VGG16\n",
        "from keras.preprocessing import image \n",
        "from keras.applications.vgg16 import preprocess_input, decode_predictions \n",
        "import numpy as np \n",
        "import os\n",
        "\n"
      ],
      "execution_count": 12,
      "outputs": []
    },
    {
      "cell_type": "code",
      "metadata": {
        "id": "_omhLN1aVtmK",
        "colab_type": "code",
        "colab": {}
      },
      "source": [
        "# Eğitilmiş modelin ağırlıklarını model değişkenine yükle\n",
        "model = VGG16(weights ='imagenet')\n",
        "\n",
        "img_path = os.path.join(\"/content/gdrive/My Drive/VGG-16/images/kitap.jpg\")\n",
        "\n",
        "#görüntü boyutlarını modele uyarlayıp, tahmine hazır hale getir\n",
        "img = image.load_img(img_path, target_size=(224,224))    \n",
        "x = image.img_to_array(img)\n",
        "x = np.expand_dims(x, axis = 0)\n",
        "x = preprocess_input(x)\n",
        "preds = model.predict(x)"
      ],
      "execution_count": 13,
      "outputs": []
    },
    {
      "cell_type": "code",
      "metadata": {
        "id": "MeEPjcTMazU_",
        "colab_type": "code",
        "colab": {
          "base_uri": "https://localhost:8080/",
          "height": 34
        },
        "outputId": "2ff890b6-e779-42fb-8246-0360ead78906"
      },
      "source": [
        "#predict - en benzer 3 tahmini söyle\n",
        "print('Predicted:', decode_predictions(preds, top = 3)[0])"
      ],
      "execution_count": 14,
      "outputs": [
        {
          "output_type": "stream",
          "text": [
            "Predicted: [('n02840245', 'binder', 0.42654848), ('n07248320', 'book_jacket', 0.38080138), ('n02978881', 'cassette', 0.11661832)]\n"
          ],
          "name": "stdout"
        }
      ]
    }
  ]
}