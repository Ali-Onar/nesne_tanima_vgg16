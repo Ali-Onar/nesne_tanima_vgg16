{
  "nbformat": 4,
  "nbformat_minor": 0,
  "metadata": {
    "colab": {
      "name": "nesne_tanima_vgg16.ipynb",
      "provenance": [],
      "collapsed_sections": [],
      "authorship_tag": "ABX9TyP0UNRXJ6GHb193FHAFHVmd",
      "include_colab_link": true
    },
    "kernelspec": {
      "name": "python3",
      "display_name": "Python 3"
    }
  },
  "cells": [
    {
      "cell_type": "markdown",
      "metadata": {
        "id": "view-in-github",
        "colab_type": "text"
      },
      "source": [
        "<a href=\"https://colab.research.google.com/github/Ali-Onar/nesne_tanima_vgg16/blob/master/nesne_tanima_vgg16.ipynb\" target=\"_parent\"><img src=\"https://colab.research.google.com/assets/colab-badge.svg\" alt=\"Open In Colab\"/></a>"
      ]
    },
    {
      "cell_type": "code",
      "metadata": {
        "id": "IsQZ4zWZUBos",
        "colab_type": "code",
        "colab": {
          "base_uri": "https://localhost:8080/",
          "height": 34
        },
        "outputId": "1c1abd71-3eb1-402c-d03b-a509e2757d82"
      },
      "source": [
        "from google.colab import drive\n",
        "drive.mount('/content/gdrive')"
      ],
      "execution_count": 7,
      "outputs": [
        {
          "output_type": "stream",
          "text": [
            "Drive already mounted at /content/gdrive; to attempt to forcibly remount, call drive.mount(\"/content/gdrive\", force_remount=True).\n"
          ],
          "name": "stdout"
        }
      ]
    },
    {
      "cell_type": "code",
      "metadata": {
        "id": "9txHfWGPVb0_",
        "colab_type": "code",
        "colab": {}
      },
      "source": [
        "\n",
        "from keras.applications.vgg16 import VGG16 # Öncelikle Keras’a vgg16 modülünü ekliyoruz.\n",
        "from keras.preprocessing import image # Sonrasında görüntümüz üzerinde ön işlemlerimizi gerçekleştiriyoruz.\n",
        "from keras.applications.vgg16 import preprocess_input, decode_predictions # tahminlerini basitçe yazdırmamız için gerekli fonksiyonları çağırıyoruz. \n",
        "import numpy as np # Giriş verimiz üzerine matris işlemleri yapmak için NumPy modülünü de çağırıyoruz.\n",
        "import os\n",
        "\n"
      ],
      "execution_count": 8,
      "outputs": []
    },
    {
      "cell_type": "code",
      "metadata": {
        "id": "_omhLN1aVtmK",
        "colab_type": "code",
        "colab": {
          "base_uri": "https://localhost:8080/",
          "height": 67
        },
        "outputId": "7d4d4722-6cea-4c64-8ab6-971515b6a215"
      },
      "source": [
        "# Daha öncesinde eğitilmiş olan modelin ağırlıklarını alıyoruz.\n",
        "model = VGG16(weights ='imagenet')\n",
        "img_path = os.path.join(\"/content/gdrive/My Drive/VGG-16/images/kitap.jpg\")\n",
        "img = image.load_img(img_path, target_size=(224,224))\n",
        "    \n",
        "x = image.img_to_array(img)\n",
        "x = np.expand_dims(x, axis = 0)\n",
        "x = preprocess_input(x)\n",
        "preds = model.predict(x)\n",
        "\n",
        "print('Predicted:', decode_predictions(preds, top = 3)[0])"
      ],
      "execution_count": 10,
      "outputs": [
        {
          "output_type": "stream",
          "text": [
            "Downloading data from https://storage.googleapis.com/download.tensorflow.org/data/imagenet_class_index.json\n",
            "40960/35363 [==================================] - 0s 0us/step\n",
            "Predicted: [('n02840245', 'binder', 0.42654848), ('n07248320', 'book_jacket', 0.38080138), ('n02978881', 'cassette', 0.11661832)]\n"
          ],
          "name": "stdout"
        }
      ]
    }
  ]
}